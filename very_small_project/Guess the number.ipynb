{
 "cells": [
  {
   "cell_type": "code",
   "execution_count": 18,
   "metadata": {},
   "outputs": [],
   "source": [
    "def guessnum():\n",
    "    import random\n",
    "    replay='True'\n",
    "    while replay:\n",
    "        cd=input(\"play(yes or y/default key_no):\")\n",
    "        if cd.lower()=='y' or cd.lower()=='yes':\n",
    "            print(\"guess the number between1 to 10\")\n",
    "            ask=int(input('your input: '))\n",
    "            if ask<11 and ask>0:\n",
    "                prev=random.randint(1,10)\n",
    "                if ask==prev:\n",
    "                    print(\"the number is\",prev)\n",
    "                    print(\"you guessed right number\")\n",
    "                else:\n",
    "                    print(\"wrong guess\")\n",
    "                    while replay:\n",
    "                        again=input(\"do you want to try again(yes/no):\")\n",
    "                        if again.lower()=='yes' or again.lower()=='y' :\n",
    "                            ask2=input(\"guess the number:\")\n",
    "                            if ask2==prev:\n",
    "                                print(\"you guessed right\")\n",
    "                                print(\"the number is\",prev)\n",
    "                            else:\n",
    "                                print(\"you guessed wrong again\")\n",
    "                                print(\"the number is\",prev)\n",
    "                            break;\n",
    "                        elif again.lower()=='no'or again.lower()=='n':\n",
    "                            break\n",
    "                        else:\n",
    "                            print(\"invalid input\")\n",
    "                            continue             \n",
    "            else:\n",
    "                print(\"invalid input\")\n",
    "            continue\n",
    "        else:\n",
    "            print(\"Game ended\")\n",
    "            break\n"
   ]
  },
  {
   "cell_type": "code",
   "execution_count": 19,
   "metadata": {},
   "outputs": [
    {
     "name": "stdout",
     "output_type": "stream",
     "text": [
      "play(yes or y/default key_no):y\n",
      "guess the number between1 to 10\n",
      "your input: 4\n",
      "wrong guess\n",
      "do you want to try again(yes/no):y\n",
      "guess the number:7\n",
      "you guessed wrong again\n",
      "the number is 2\n",
      "play(yes or y/default key_no):no\n",
      "Game ended\n"
     ]
    }
   ],
   "source": [
    "guessnum()"
   ]
  },
  {
   "cell_type": "code",
   "execution_count": null,
   "metadata": {},
   "outputs": [],
   "source": []
  }
 ],
 "metadata": {
  "kernelspec": {
   "display_name": "Python 3",
   "language": "python",
   "name": "python3"
  },
  "language_info": {
   "codemirror_mode": {
    "name": "ipython",
    "version": 3
   },
   "file_extension": ".py",
   "mimetype": "text/x-python",
   "name": "python",
   "nbconvert_exporter": "python",
   "pygments_lexer": "ipython3",
   "version": "3.8.5"
  }
 },
 "nbformat": 4,
 "nbformat_minor": 4
}
